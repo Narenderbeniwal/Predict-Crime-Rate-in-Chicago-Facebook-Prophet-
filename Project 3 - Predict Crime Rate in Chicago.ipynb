{
 "cells": [
  {
   "cell_type": "markdown",
   "metadata": {},
   "source": [
    "## PREDICTING CRIME RATE IN CHICAGO USING FACEBOOK PROPHET "
   ]
  },
  {
   "cell_type": "markdown",
   "metadata": {},
   "source": [
    "# STEP #0: PROBLEM STATEMENT"
   ]
  },
  {
   "cell_type": "markdown",
   "metadata": {},
   "source": [
    "# - The Chicago Crime dataset contains a summary of the reported crimes occurred in the City of Chicago from 2001 to 2017. \n",
    "- Dataset has been obtained from the Chicago Police Department's CLEAR (Citizen Law Enforcement Analysis and Reporting) system.\n",
    "- Dataset contains the following columns: \n",
    "    - ID: Unique identifier for the record.\n",
    "    - Case Number: The Chicago Police Department RD Number (Records Division Number), which is unique to the incident.\n",
    "    - Date: Date when the incident occurred.\n",
    "    - Block: address where the incident occurred\n",
    "    - IUCR: The Illinois Unifrom Crime Reporting code.\n",
    "    - Primary Type: The primary description of the IUCR code.\n",
    "    - Description: The secondary description of the IUCR code, a subcategory of the primary description.\n",
    "    - Location Description: Description of the location where the incident occurred.\n",
    "    - Arrest: Indicates whether an arrest was made.\n",
    "    - Domestic: Indicates whether the incident was domestic-related as defined by the Illinois Domestic Violence Act.\n",
    "    - Beat: Indicates the beat where the incident occurred. A beat is the smallest police geographic area – each beat has a dedicated police beat car. \n",
    "    - District: Indicates the police district where the incident occurred. \n",
    "    - Ward: The ward (City Council district) where the incident occurred. \n",
    "    - Community Area: Indicates the community area where the incident occurred. Chicago has 77 community areas. \n",
    "    - FBI Code: Indicates the crime classification as outlined in the FBI's National Incident-Based Reporting System (NIBRS). \n",
    "    - X Coordinate: The x coordinate of the location where the incident occurred in State Plane Illinois East NAD 1983 projection. \n",
    "    - Y Coordinate: The y coordinate of the location where the incident occurred in State Plane Illinois East NAD 1983 projection. \n",
    "    - Year: Year the incident occurred.\n",
    "    - Updated On: Date and time the record was last updated.\n",
    "    - Latitude: The latitude of the location where the incident occurred. This location is shifted from the actual location for partial redaction but falls on the same block.\n",
    "    - Longitude: The longitude of the location where the incident occurred. This location is shifted from the actual location for partial redaction but falls on the same block.\n",
    "    - Location: The location where the incident occurred in a format that allows for creation of maps and other geographic operations on this data portal. This location is shifted from the actual location for partial redaction but falls on the same block.\n",
    "- Datasource: https://www.kaggle.com/currie32/crimes-in-chicago"
   ]
  },
  {
   "cell_type": "markdown",
   "metadata": {},
   "source": [
    " pip install fbprophet"
   ]
  },
  {
   "cell_type": "code",
   "execution_count": null,
   "metadata": {},
   "outputs": [],
   "source": []
  },
  {
   "cell_type": "code",
   "execution_count": 13,
   "metadata": {},
   "outputs": [],
   "source": [
    "import pandas as pd\n",
    "import numpy as np\n",
    "import seaborn as sns\n",
    "import matplotlib.pyplot as plt\n",
    "from fbprophet import Prophet"
   ]
  },
  {
   "cell_type": "code",
   "execution_count": 2,
   "metadata": {},
   "outputs": [
    {
     "name": "stderr",
     "output_type": "stream",
     "text": [
      "b'Skipping line 533719: expected 23 fields, saw 24\\n'\n",
      "b'Skipping line 1149094: expected 23 fields, saw 41\\n'\n"
     ]
    }
   ],
   "source": [
    "chicago_df_1 = pd.read_csv('E:/DL and ML Practical Tutorials - Package/Project 3/Chicago_Crimes_2005_to_2007.csv',error_bad_lines=False)\n",
    "chicago_df_2 = pd.read_csv('E:/DL and ML Practical Tutorials - Package/Project 3/Chicago_Crimes_2008_to_2011.csv',error_bad_lines=False)\n",
    "chicago_df_3 = pd.read_csv('E:/DL and ML Practical Tutorials - Package/Project 3/Chicago_Crimes_2012_to_2017.csv',error_bad_lines=False)"
   ]
  },
  {
   "cell_type": "code",
   "execution_count": 3,
   "metadata": {},
   "outputs": [
    {
     "data": {
      "text/plain": [
       "(1872343, 23)"
      ]
     },
     "execution_count": 3,
     "metadata": {},
     "output_type": "execute_result"
    }
   ],
   "source": [
    "chicago_df_1.shape"
   ]
  },
  {
   "cell_type": "code",
   "execution_count": 4,
   "metadata": {},
   "outputs": [
    {
     "data": {
      "text/plain": [
       "(2688710, 23)"
      ]
     },
     "execution_count": 4,
     "metadata": {},
     "output_type": "execute_result"
    }
   ],
   "source": [
    "chicago_df_2.shape"
   ]
  },
  {
   "cell_type": "code",
   "execution_count": 5,
   "metadata": {},
   "outputs": [
    {
     "data": {
      "text/plain": [
       "(1456714, 23)"
      ]
     },
     "execution_count": 5,
     "metadata": {},
     "output_type": "execute_result"
    }
   ],
   "source": [
    "chicago_df_3.shape"
   ]
  },
  {
   "cell_type": "code",
   "execution_count": null,
   "metadata": {},
   "outputs": [],
   "source": []
  },
  {
   "cell_type": "code",
   "execution_count": 6,
   "metadata": {},
   "outputs": [],
   "source": [
    "chicago_df = pd.concat([chicago_df_1,chicago_df_2,chicago_df_3])"
   ]
  },
  {
   "cell_type": "code",
   "execution_count": 7,
   "metadata": {},
   "outputs": [
    {
     "data": {
      "text/plain": [
       "(6017767, 23)"
      ]
     },
     "execution_count": 7,
     "metadata": {},
     "output_type": "execute_result"
    }
   ],
   "source": [
    "chicago_df.shape"
   ]
  },
  {
   "cell_type": "markdown",
   "metadata": {},
   "source": [
    "## ExploRing THE DataSet"
   ]
  },
  {
   "cell_type": "code",
   "execution_count": 8,
   "metadata": {},
   "outputs": [
    {
     "data": {
      "text/html": [
       "<div>\n",
       "<style scoped>\n",
       "    .dataframe tbody tr th:only-of-type {\n",
       "        vertical-align: middle;\n",
       "    }\n",
       "\n",
       "    .dataframe tbody tr th {\n",
       "        vertical-align: top;\n",
       "    }\n",
       "\n",
       "    .dataframe thead th {\n",
       "        text-align: right;\n",
       "    }\n",
       "</style>\n",
       "<table border=\"1\" class=\"dataframe\">\n",
       "  <thead>\n",
       "    <tr style=\"text-align: right;\">\n",
       "      <th></th>\n",
       "      <th>Unnamed: 0</th>\n",
       "      <th>ID</th>\n",
       "      <th>Case Number</th>\n",
       "      <th>Date</th>\n",
       "      <th>Block</th>\n",
       "      <th>IUCR</th>\n",
       "      <th>Primary Type</th>\n",
       "      <th>Description</th>\n",
       "      <th>Location Description</th>\n",
       "      <th>Arrest</th>\n",
       "      <th>...</th>\n",
       "      <th>Ward</th>\n",
       "      <th>Community Area</th>\n",
       "      <th>FBI Code</th>\n",
       "      <th>X Coordinate</th>\n",
       "      <th>Y Coordinate</th>\n",
       "      <th>Year</th>\n",
       "      <th>Updated On</th>\n",
       "      <th>Latitude</th>\n",
       "      <th>Longitude</th>\n",
       "      <th>Location</th>\n",
       "    </tr>\n",
       "  </thead>\n",
       "  <tbody>\n",
       "    <tr>\n",
       "      <th>0</th>\n",
       "      <td>0</td>\n",
       "      <td>4673626</td>\n",
       "      <td>HM274058</td>\n",
       "      <td>04/02/2006 01:00:00 PM</td>\n",
       "      <td>055XX N MANGO AVE</td>\n",
       "      <td>2825</td>\n",
       "      <td>OTHER OFFENSE</td>\n",
       "      <td>HARASSMENT BY TELEPHONE</td>\n",
       "      <td>RESIDENCE</td>\n",
       "      <td>False</td>\n",
       "      <td>...</td>\n",
       "      <td>45.0</td>\n",
       "      <td>11.0</td>\n",
       "      <td>26</td>\n",
       "      <td>1136872.0</td>\n",
       "      <td>1936499.0</td>\n",
       "      <td>2006</td>\n",
       "      <td>04/15/2016 08:55:02 AM</td>\n",
       "      <td>41.981913</td>\n",
       "      <td>-87.771996</td>\n",
       "      <td>(41.981912692, -87.771996382)</td>\n",
       "    </tr>\n",
       "    <tr>\n",
       "      <th>1</th>\n",
       "      <td>1</td>\n",
       "      <td>4673627</td>\n",
       "      <td>HM202199</td>\n",
       "      <td>02/26/2006 01:40:48 PM</td>\n",
       "      <td>065XX S RHODES AVE</td>\n",
       "      <td>2017</td>\n",
       "      <td>NARCOTICS</td>\n",
       "      <td>MANU/DELIVER:CRACK</td>\n",
       "      <td>SIDEWALK</td>\n",
       "      <td>True</td>\n",
       "      <td>...</td>\n",
       "      <td>20.0</td>\n",
       "      <td>42.0</td>\n",
       "      <td>18</td>\n",
       "      <td>1181027.0</td>\n",
       "      <td>1861693.0</td>\n",
       "      <td>2006</td>\n",
       "      <td>04/15/2016 08:55:02 AM</td>\n",
       "      <td>41.775733</td>\n",
       "      <td>-87.611920</td>\n",
       "      <td>(41.775732538, -87.611919814)</td>\n",
       "    </tr>\n",
       "    <tr>\n",
       "      <th>2</th>\n",
       "      <td>2</td>\n",
       "      <td>4673628</td>\n",
       "      <td>HM113861</td>\n",
       "      <td>01/08/2006 11:16:00 PM</td>\n",
       "      <td>013XX E 69TH ST</td>\n",
       "      <td>051A</td>\n",
       "      <td>ASSAULT</td>\n",
       "      <td>AGGRAVATED: HANDGUN</td>\n",
       "      <td>OTHER</td>\n",
       "      <td>False</td>\n",
       "      <td>...</td>\n",
       "      <td>5.0</td>\n",
       "      <td>69.0</td>\n",
       "      <td>04A</td>\n",
       "      <td>1186023.0</td>\n",
       "      <td>1859609.0</td>\n",
       "      <td>2006</td>\n",
       "      <td>04/15/2016 08:55:02 AM</td>\n",
       "      <td>41.769897</td>\n",
       "      <td>-87.593671</td>\n",
       "      <td>(41.769897392, -87.593670899)</td>\n",
       "    </tr>\n",
       "    <tr>\n",
       "      <th>3</th>\n",
       "      <td>4</td>\n",
       "      <td>4673629</td>\n",
       "      <td>HM274049</td>\n",
       "      <td>04/05/2006 06:45:00 PM</td>\n",
       "      <td>061XX W NEWPORT AVE</td>\n",
       "      <td>0460</td>\n",
       "      <td>BATTERY</td>\n",
       "      <td>SIMPLE</td>\n",
       "      <td>RESIDENCE</td>\n",
       "      <td>False</td>\n",
       "      <td>...</td>\n",
       "      <td>38.0</td>\n",
       "      <td>17.0</td>\n",
       "      <td>08B</td>\n",
       "      <td>1134772.0</td>\n",
       "      <td>1922299.0</td>\n",
       "      <td>2006</td>\n",
       "      <td>04/15/2016 08:55:02 AM</td>\n",
       "      <td>41.942984</td>\n",
       "      <td>-87.780057</td>\n",
       "      <td>(41.942984005, -87.780056951)</td>\n",
       "    </tr>\n",
       "    <tr>\n",
       "      <th>4</th>\n",
       "      <td>5</td>\n",
       "      <td>4673630</td>\n",
       "      <td>HM187120</td>\n",
       "      <td>02/17/2006 09:03:14 PM</td>\n",
       "      <td>037XX W 60TH ST</td>\n",
       "      <td>1811</td>\n",
       "      <td>NARCOTICS</td>\n",
       "      <td>POSS: CANNABIS 30GMS OR LESS</td>\n",
       "      <td>ALLEY</td>\n",
       "      <td>True</td>\n",
       "      <td>...</td>\n",
       "      <td>13.0</td>\n",
       "      <td>65.0</td>\n",
       "      <td>18</td>\n",
       "      <td>1152412.0</td>\n",
       "      <td>1864560.0</td>\n",
       "      <td>2006</td>\n",
       "      <td>04/15/2016 08:55:02 AM</td>\n",
       "      <td>41.784211</td>\n",
       "      <td>-87.716745</td>\n",
       "      <td>(41.784210853, -87.71674491)</td>\n",
       "    </tr>\n",
       "  </tbody>\n",
       "</table>\n",
       "<p>5 rows × 23 columns</p>\n",
       "</div>"
      ],
      "text/plain": [
       "   Unnamed: 0       ID Case Number                    Date  \\\n",
       "0           0  4673626    HM274058  04/02/2006 01:00:00 PM   \n",
       "1           1  4673627    HM202199  02/26/2006 01:40:48 PM   \n",
       "2           2  4673628    HM113861  01/08/2006 11:16:00 PM   \n",
       "3           4  4673629    HM274049  04/05/2006 06:45:00 PM   \n",
       "4           5  4673630    HM187120  02/17/2006 09:03:14 PM   \n",
       "\n",
       "                 Block  IUCR   Primary Type                   Description  \\\n",
       "0    055XX N MANGO AVE  2825  OTHER OFFENSE       HARASSMENT BY TELEPHONE   \n",
       "1   065XX S RHODES AVE  2017      NARCOTICS            MANU/DELIVER:CRACK   \n",
       "2      013XX E 69TH ST  051A        ASSAULT           AGGRAVATED: HANDGUN   \n",
       "3  061XX W NEWPORT AVE  0460        BATTERY                        SIMPLE   \n",
       "4      037XX W 60TH ST  1811      NARCOTICS  POSS: CANNABIS 30GMS OR LESS   \n",
       "\n",
       "  Location Description  Arrest  ...  Ward  Community Area  FBI Code  \\\n",
       "0            RESIDENCE   False  ...  45.0            11.0        26   \n",
       "1             SIDEWALK    True  ...  20.0            42.0        18   \n",
       "2                OTHER   False  ...   5.0            69.0       04A   \n",
       "3            RESIDENCE   False  ...  38.0            17.0       08B   \n",
       "4                ALLEY    True  ...  13.0            65.0        18   \n",
       "\n",
       "   X Coordinate  Y Coordinate  Year              Updated On   Latitude  \\\n",
       "0     1136872.0     1936499.0  2006  04/15/2016 08:55:02 AM  41.981913   \n",
       "1     1181027.0     1861693.0  2006  04/15/2016 08:55:02 AM  41.775733   \n",
       "2     1186023.0     1859609.0  2006  04/15/2016 08:55:02 AM  41.769897   \n",
       "3     1134772.0     1922299.0  2006  04/15/2016 08:55:02 AM  41.942984   \n",
       "4     1152412.0     1864560.0  2006  04/15/2016 08:55:02 AM  41.784211   \n",
       "\n",
       "   Longitude                       Location  \n",
       "0 -87.771996  (41.981912692, -87.771996382)  \n",
       "1 -87.611920  (41.775732538, -87.611919814)  \n",
       "2 -87.593671  (41.769897392, -87.593670899)  \n",
       "3 -87.780057  (41.942984005, -87.780056951)  \n",
       "4 -87.716745   (41.784210853, -87.71674491)  \n",
       "\n",
       "[5 rows x 23 columns]"
      ]
     },
     "execution_count": 8,
     "metadata": {},
     "output_type": "execute_result"
    }
   ],
   "source": [
    "chicago_df.head(5)"
   ]
  },
  {
   "cell_type": "code",
   "execution_count": 9,
   "metadata": {},
   "outputs": [
    {
     "data": {
      "text/plain": [
       "<matplotlib.axes._subplots.AxesSubplot at 0x28725243dc0>"
      ]
     },
     "execution_count": 9,
     "metadata": {},
     "output_type": "execute_result"
    },
    {
     "data": {
      "image/png": "[encoded data removed]",
      "text/plain": [
       "<Figure size 720x720 with 1 Axes>"
      ]
     },
     "metadata": {
      "needs_background": "light"
     },
     "output_type": "display_data"
    }
   ],
   "source": [
    "plt.figure(figsize = (10,10))\n",
    "sns.heatmap(chicago_df.isnull(),cbar = False, cmap = 'YlGnBu')"
   ]
  },
  {
   "cell_type": "code",
   "execution_count": 10,
   "metadata": {},
   "outputs": [],
   "source": [
    "chicago_df.drop(['Unnamed: 0','Case Number','ID','IUCR','X Coordinate','Y Coordinate','Updated On','Year','FBI Code','Beat','Ward','Community Area','Location','Latitude','Longitude','District'], inplace =True,axis =1)\n",
    "            "
   ]
  },
  {
   "cell_type": "code",
   "execution_count": 11,
   "metadata": {},
   "outputs": [
    {
     "data": {
      "text/html": [
       "<div>\n",
       "<style scoped>\n",
       "    .dataframe tbody tr th:only-of-type {\n",
       "        vertical-align: middle;\n",
       "    }\n",
       "\n",
       "    .dataframe tbody tr th {\n",
       "        vertical-align: top;\n",
       "    }\n",
       "\n",
       "    .dataframe thead th {\n",
       "        text-align: right;\n",
       "    }\n",
       "</style>\n",
       "<table border=\"1\" class=\"dataframe\">\n",
       "  <thead>\n",
       "    <tr style=\"text-align: right;\">\n",
       "      <th></th>\n",
       "      <th>Date</th>\n",
       "      <th>Block</th>\n",
       "      <th>Primary Type</th>\n",
       "      <th>Description</th>\n",
       "      <th>Location Description</th>\n",
       "      <th>Arrest</th>\n",
       "      <th>Domestic</th>\n",
       "    </tr>\n",
       "  </thead>\n",
       "  <tbody>\n",
       "    <tr>\n",
       "      <th>0</th>\n",
       "      <td>04/02/2006 01:00:00 PM</td>\n",
       "      <td>055XX N MANGO AVE</td>\n",
       "      <td>OTHER OFFENSE</td>\n",
       "      <td>HARASSMENT BY TELEPHONE</td>\n",
       "      <td>RESIDENCE</td>\n",
       "      <td>False</td>\n",
       "      <td>False</td>\n",
       "    </tr>\n",
       "    <tr>\n",
       "      <th>1</th>\n",
       "      <td>02/26/2006 01:40:48 PM</td>\n",
       "      <td>065XX S RHODES AVE</td>\n",
       "      <td>NARCOTICS</td>\n",
       "      <td>MANU/DELIVER:CRACK</td>\n",
       "      <td>SIDEWALK</td>\n",
       "      <td>True</td>\n",
       "      <td>False</td>\n",
       "    </tr>\n",
       "    <tr>\n",
       "      <th>2</th>\n",
       "      <td>01/08/2006 11:16:00 PM</td>\n",
       "      <td>013XX E 69TH ST</td>\n",
       "      <td>ASSAULT</td>\n",
       "      <td>AGGRAVATED: HANDGUN</td>\n",
       "      <td>OTHER</td>\n",
       "      <td>False</td>\n",
       "      <td>False</td>\n",
       "    </tr>\n",
       "    <tr>\n",
       "      <th>3</th>\n",
       "      <td>04/05/2006 06:45:00 PM</td>\n",
       "      <td>061XX W NEWPORT AVE</td>\n",
       "      <td>BATTERY</td>\n",
       "      <td>SIMPLE</td>\n",
       "      <td>RESIDENCE</td>\n",
       "      <td>False</td>\n",
       "      <td>False</td>\n",
       "    </tr>\n",
       "    <tr>\n",
       "      <th>4</th>\n",
       "      <td>02/17/2006 09:03:14 PM</td>\n",
       "      <td>037XX W 60TH ST</td>\n",
       "      <td>NARCOTICS</td>\n",
       "      <td>POSS: CANNABIS 30GMS OR LESS</td>\n",
       "      <td>ALLEY</td>\n",
       "      <td>True</td>\n",
       "      <td>False</td>\n",
       "    </tr>\n",
       "    <tr>\n",
       "      <th>...</th>\n",
       "      <td>...</td>\n",
       "      <td>...</td>\n",
       "      <td>...</td>\n",
       "      <td>...</td>\n",
       "      <td>...</td>\n",
       "      <td>...</td>\n",
       "      <td>...</td>\n",
       "    </tr>\n",
       "    <tr>\n",
       "      <th>1456709</th>\n",
       "      <td>05/03/2016 11:33:00 PM</td>\n",
       "      <td>026XX W 23RD PL</td>\n",
       "      <td>BATTERY</td>\n",
       "      <td>DOMESTIC BATTERY SIMPLE</td>\n",
       "      <td>APARTMENT</td>\n",
       "      <td>True</td>\n",
       "      <td>True</td>\n",
       "    </tr>\n",
       "    <tr>\n",
       "      <th>1456710</th>\n",
       "      <td>05/03/2016 11:30:00 PM</td>\n",
       "      <td>073XX S HARVARD AVE</td>\n",
       "      <td>CRIMINAL DAMAGE</td>\n",
       "      <td>TO PROPERTY</td>\n",
       "      <td>APARTMENT</td>\n",
       "      <td>True</td>\n",
       "      <td>True</td>\n",
       "    </tr>\n",
       "    <tr>\n",
       "      <th>1456711</th>\n",
       "      <td>05/03/2016 12:15:00 AM</td>\n",
       "      <td>024XX W 63RD ST</td>\n",
       "      <td>BATTERY</td>\n",
       "      <td>AGGRAVATED: HANDGUN</td>\n",
       "      <td>SIDEWALK</td>\n",
       "      <td>False</td>\n",
       "      <td>False</td>\n",
       "    </tr>\n",
       "    <tr>\n",
       "      <th>1456712</th>\n",
       "      <td>05/03/2016 09:07:00 PM</td>\n",
       "      <td>082XX S EXCHANGE AVE</td>\n",
       "      <td>BATTERY</td>\n",
       "      <td>DOMESTIC BATTERY SIMPLE</td>\n",
       "      <td>SIDEWALK</td>\n",
       "      <td>False</td>\n",
       "      <td>True</td>\n",
       "    </tr>\n",
       "    <tr>\n",
       "      <th>1456713</th>\n",
       "      <td>05/03/2016 11:38:00 PM</td>\n",
       "      <td>001XX E 75TH ST</td>\n",
       "      <td>OTHER OFFENSE</td>\n",
       "      <td>OTHER WEAPONS VIOLATION</td>\n",
       "      <td>PARKING LOT/GARAGE(NON.RESID.)</td>\n",
       "      <td>True</td>\n",
       "      <td>False</td>\n",
       "    </tr>\n",
       "  </tbody>\n",
       "</table>\n",
       "<p>6017767 rows × 7 columns</p>\n",
       "</div>"
      ],
      "text/plain": [
       "                           Date                 Block     Primary Type  \\\n",
       "0        04/02/2006 01:00:00 PM     055XX N MANGO AVE    OTHER OFFENSE   \n",
       "1        02/26/2006 01:40:48 PM    065XX S RHODES AVE        NARCOTICS   \n",
       "2        01/08/2006 11:16:00 PM       013XX E 69TH ST          ASSAULT   \n",
       "3        04/05/2006 06:45:00 PM   061XX W NEWPORT AVE          BATTERY   \n",
       "4        02/17/2006 09:03:14 PM       037XX W 60TH ST        NARCOTICS   \n",
       "...                         ...                   ...              ...   \n",
       "1456709  05/03/2016 11:33:00 PM       026XX W 23RD PL          BATTERY   \n",
       "1456710  05/03/2016 11:30:00 PM   073XX S HARVARD AVE  CRIMINAL DAMAGE   \n",
       "1456711  05/03/2016 12:15:00 AM       024XX W 63RD ST          BATTERY   \n",
       "1456712  05/03/2016 09:07:00 PM  082XX S EXCHANGE AVE          BATTERY   \n",
       "1456713  05/03/2016 11:38:00 PM       001XX E 75TH ST    OTHER OFFENSE   \n",
       "\n",
       "                          Description            Location Description  Arrest  \\\n",
       "0             HARASSMENT BY TELEPHONE                       RESIDENCE   False   \n",
       "1                  MANU/DELIVER:CRACK                        SIDEWALK    True   \n",
       "2                 AGGRAVATED: HANDGUN                           OTHER   False   \n",
       "3                              SIMPLE                       RESIDENCE   False   \n",
       "4        POSS: CANNABIS 30GMS OR LESS                           ALLEY    True   \n",
       "...                               ...                             ...     ...   \n",
       "1456709       DOMESTIC BATTERY SIMPLE                       APARTMENT    True   \n",
       "1456710                   TO PROPERTY                       APARTMENT    True   \n",
       "1456711           AGGRAVATED: HANDGUN                        SIDEWALK   False   \n",
       "1456712       DOMESTIC BATTERY SIMPLE                        SIDEWALK   False   \n",
       "1456713       OTHER WEAPONS VIOLATION  PARKING LOT/GARAGE(NON.RESID.)    True   \n",
       "\n",
       "         Domestic  \n",
       "0           False  \n",
       "1           False  \n",
       "2           False  \n",
       "3           False  \n",
       "4           False  \n",
       "...           ...  \n",
       "1456709      True  \n",
       "1456710      True  \n",
       "1456711     False  \n",
       "1456712      True  \n",
       "1456713     False  \n",
       "\n",
       "[6017767 rows x 7 columns]"
      ]
     },
     "execution_count": 11,
     "metadata": {},
     "output_type": "execute_result"
    }
   ],
   "source": [
    "chicago_df"
   ]
  },
  {
   "cell_type": "code",
   "execution_count": 14,
   "metadata": {},
   "outputs": [],
   "source": [
    "# Assembling a datetime by rearranging the dataframe column \"Date\". \n",
    "\n",
    "chicago_df.Date = pd.to_datetime(chicago_df.Date, format='%m/%d/%Y %I:%M:%S %p')\n"
   ]
  },
  {
   "cell_type": "code",
   "execution_count": 15,
   "metadata": {},
   "outputs": [
    {
     "data": {
      "text/plain": [
       "0         2006-04-02 13:00:00\n",
       "1         2006-02-26 13:40:48\n",
       "2         2006-01-08 23:16:00\n",
       "3         2006-04-05 18:45:00\n",
       "4         2006-02-17 21:03:14\n",
       "                  ...        \n",
       "1456709   2016-05-03 23:33:00\n",
       "1456710   2016-05-03 23:30:00\n",
       "1456711   2016-05-03 00:15:00\n",
       "1456712   2016-05-03 21:07:00\n",
       "1456713   2016-05-03 23:38:00\n",
       "Name: Date, Length: 6017767, dtype: datetime64[ns]"
      ]
     },
     "execution_count": 15,
     "metadata": {},
     "output_type": "execute_result"
    }
   ],
   "source": [
    "chicago_df.Date"
   ]
  },
  {
   "cell_type": "code",
   "execution_count": 28,
   "metadata": {},
   "outputs": [],
   "source": [
    "# setting the index to be the date \n",
    "chicago_df.index = pd.DatetimeIndex(chicago_df.Date)\n"
   ]
  },
  {
   "cell_type": "code",
   "execution_count": 29,
   "metadata": {},
   "outputs": [
    {
     "data": {
      "text/html": [
       "<div>\n",
       "<style scoped>\n",
       "    .dataframe tbody tr th:only-of-type {\n",
       "        vertical-align: middle;\n",
       "    }\n",
       "\n",
       "    .dataframe tbody tr th {\n",
       "        vertical-align: top;\n",
       "    }\n",
       "\n",
       "    .dataframe thead th {\n",
       "        text-align: right;\n",
       "    }\n",
       "</style>\n",
       "<table border=\"1\" class=\"dataframe\">\n",
       "  <thead>\n",
       "    <tr style=\"text-align: right;\">\n",
       "      <th></th>\n",
       "      <th>Date</th>\n",
       "      <th>Block</th>\n",
       "      <th>Primary Type</th>\n",
       "      <th>Description</th>\n",
       "      <th>Location Description</th>\n",
       "      <th>Arrest</th>\n",
       "      <th>Domestic</th>\n",
       "    </tr>\n",
       "    <tr>\n",
       "      <th>Date</th>\n",
       "      <th></th>\n",
       "      <th></th>\n",
       "      <th></th>\n",
       "      <th></th>\n",
       "      <th></th>\n",
       "      <th></th>\n",
       "      <th></th>\n",
       "    </tr>\n",
       "  </thead>\n",
       "  <tbody>\n",
       "    <tr>\n",
       "      <th>2006-04-02 13:00:00</th>\n",
       "      <td>2006-04-02 13:00:00</td>\n",
       "      <td>055XX N MANGO AVE</td>\n",
       "      <td>OTHER OFFENSE</td>\n",
       "      <td>HARASSMENT BY TELEPHONE</td>\n",
       "      <td>RESIDENCE</td>\n",
       "      <td>False</td>\n",
       "      <td>False</td>\n",
       "    </tr>\n",
       "    <tr>\n",
       "      <th>2006-02-26 13:40:48</th>\n",
       "      <td>2006-02-26 13:40:48</td>\n",
       "      <td>065XX S RHODES AVE</td>\n",
       "      <td>NARCOTICS</td>\n",
       "      <td>MANU/DELIVER:CRACK</td>\n",
       "      <td>SIDEWALK</td>\n",
       "      <td>True</td>\n",
       "      <td>False</td>\n",
       "    </tr>\n",
       "    <tr>\n",
       "      <th>2006-01-08 23:16:00</th>\n",
       "      <td>2006-01-08 23:16:00</td>\n",
       "      <td>013XX E 69TH ST</td>\n",
       "      <td>ASSAULT</td>\n",
       "      <td>AGGRAVATED: HANDGUN</td>\n",
       "      <td>OTHER</td>\n",
       "      <td>False</td>\n",
       "      <td>False</td>\n",
       "    </tr>\n",
       "    <tr>\n",
       "      <th>2006-04-05 18:45:00</th>\n",
       "      <td>2006-04-05 18:45:00</td>\n",
       "      <td>061XX W NEWPORT AVE</td>\n",
       "      <td>BATTERY</td>\n",
       "      <td>SIMPLE</td>\n",
       "      <td>RESIDENCE</td>\n",
       "      <td>False</td>\n",
       "      <td>False</td>\n",
       "    </tr>\n",
       "    <tr>\n",
       "      <th>2006-02-17 21:03:14</th>\n",
       "      <td>2006-02-17 21:03:14</td>\n",
       "      <td>037XX W 60TH ST</td>\n",
       "      <td>NARCOTICS</td>\n",
       "      <td>POSS: CANNABIS 30GMS OR LESS</td>\n",
       "      <td>ALLEY</td>\n",
       "      <td>True</td>\n",
       "      <td>False</td>\n",
       "    </tr>\n",
       "    <tr>\n",
       "      <th>...</th>\n",
       "      <td>...</td>\n",
       "      <td>...</td>\n",
       "      <td>...</td>\n",
       "      <td>...</td>\n",
       "      <td>...</td>\n",
       "      <td>...</td>\n",
       "      <td>...</td>\n",
       "    </tr>\n",
       "    <tr>\n",
       "      <th>2016-05-03 23:33:00</th>\n",
       "      <td>2016-05-03 23:33:00</td>\n",
       "      <td>026XX W 23RD PL</td>\n",
       "      <td>BATTERY</td>\n",
       "      <td>DOMESTIC BATTERY SIMPLE</td>\n",
       "      <td>APARTMENT</td>\n",
       "      <td>True</td>\n",
       "      <td>True</td>\n",
       "    </tr>\n",
       "    <tr>\n",
       "      <th>2016-05-03 23:30:00</th>\n",
       "      <td>2016-05-03 23:30:00</td>\n",
       "      <td>073XX S HARVARD AVE</td>\n",
       "      <td>CRIMINAL DAMAGE</td>\n",
       "      <td>TO PROPERTY</td>\n",
       "      <td>APARTMENT</td>\n",
       "      <td>True</td>\n",
       "      <td>True</td>\n",
       "    </tr>\n",
       "    <tr>\n",
       "      <th>2016-05-03 00:15:00</th>\n",
       "      <td>2016-05-03 00:15:00</td>\n",
       "      <td>024XX W 63RD ST</td>\n",
       "      <td>BATTERY</td>\n",
       "      <td>AGGRAVATED: HANDGUN</td>\n",
       "      <td>SIDEWALK</td>\n",
       "      <td>False</td>\n",
       "      <td>False</td>\n",
       "    </tr>\n",
       "    <tr>\n",
       "      <th>2016-05-03 21:07:00</th>\n",
       "      <td>2016-05-03 21:07:00</td>\n",
       "      <td>082XX S EXCHANGE AVE</td>\n",
       "      <td>BATTERY</td>\n",
       "      <td>DOMESTIC BATTERY SIMPLE</td>\n",
       "      <td>SIDEWALK</td>\n",
       "      <td>False</td>\n",
       "      <td>True</td>\n",
       "    </tr>\n",
       "    <tr>\n",
       "      <th>2016-05-03 23:38:00</th>\n",
       "      <td>2016-05-03 23:38:00</td>\n",
       "      <td>001XX E 75TH ST</td>\n",
       "      <td>OTHER OFFENSE</td>\n",
       "      <td>OTHER WEAPONS VIOLATION</td>\n",
       "      <td>PARKING LOT/GARAGE(NON.RESID.)</td>\n",
       "      <td>True</td>\n",
       "      <td>False</td>\n",
       "    </tr>\n",
       "  </tbody>\n",
       "</table>\n",
       "<p>6017767 rows × 7 columns</p>\n",
       "</div>"
      ],
      "text/plain": [
       "                                   Date                 Block  \\\n",
       "Date                                                            \n",
       "2006-04-02 13:00:00 2006-04-02 13:00:00     055XX N MANGO AVE   \n",
       "2006-02-26 13:40:48 2006-02-26 13:40:48    065XX S RHODES AVE   \n",
       "2006-01-08 23:16:00 2006-01-08 23:16:00       013XX E 69TH ST   \n",
       "2006-04-05 18:45:00 2006-04-05 18:45:00   061XX W NEWPORT AVE   \n",
       "2006-02-17 21:03:14 2006-02-17 21:03:14       037XX W 60TH ST   \n",
       "...                                 ...                   ...   \n",
       "2016-05-03 23:33:00 2016-05-03 23:33:00       026XX W 23RD PL   \n",
       "2016-05-03 23:30:00 2016-05-03 23:30:00   073XX S HARVARD AVE   \n",
       "2016-05-03 00:15:00 2016-05-03 00:15:00       024XX W 63RD ST   \n",
       "2016-05-03 21:07:00 2016-05-03 21:07:00  082XX S EXCHANGE AVE   \n",
       "2016-05-03 23:38:00 2016-05-03 23:38:00       001XX E 75TH ST   \n",
       "\n",
       "                        Primary Type                   Description  \\\n",
       "Date                                                                 \n",
       "2006-04-02 13:00:00    OTHER OFFENSE       HARASSMENT BY TELEPHONE   \n",
       "2006-02-26 13:40:48        NARCOTICS            MANU/DELIVER:CRACK   \n",
       "2006-01-08 23:16:00          ASSAULT           AGGRAVATED: HANDGUN   \n",
       "2006-04-05 18:45:00          BATTERY                        SIMPLE   \n",
       "2006-02-17 21:03:14        NARCOTICS  POSS: CANNABIS 30GMS OR LESS   \n",
       "...                              ...                           ...   \n",
       "2016-05-03 23:33:00          BATTERY       DOMESTIC BATTERY SIMPLE   \n",
       "2016-05-03 23:30:00  CRIMINAL DAMAGE                   TO PROPERTY   \n",
       "2016-05-03 00:15:00          BATTERY           AGGRAVATED: HANDGUN   \n",
       "2016-05-03 21:07:00          BATTERY       DOMESTIC BATTERY SIMPLE   \n",
       "2016-05-03 23:38:00    OTHER OFFENSE       OTHER WEAPONS VIOLATION   \n",
       "\n",
       "                               Location Description  Arrest  Domestic  \n",
       "Date                                                                   \n",
       "2006-04-02 13:00:00                       RESIDENCE   False     False  \n",
       "2006-02-26 13:40:48                        SIDEWALK    True     False  \n",
       "2006-01-08 23:16:00                           OTHER   False     False  \n",
       "2006-04-05 18:45:00                       RESIDENCE   False     False  \n",
       "2006-02-17 21:03:14                           ALLEY    True     False  \n",
       "...                                             ...     ...       ...  \n",
       "2016-05-03 23:33:00                       APARTMENT    True      True  \n",
       "2016-05-03 23:30:00                       APARTMENT    True      True  \n",
       "2016-05-03 00:15:00                        SIDEWALK   False     False  \n",
       "2016-05-03 21:07:00                        SIDEWALK   False      True  \n",
       "2016-05-03 23:38:00  PARKING LOT/GARAGE(NON.RESID.)    True     False  \n",
       "\n",
       "[6017767 rows x 7 columns]"
      ]
     },
     "execution_count": 29,
     "metadata": {},
     "output_type": "execute_result"
    }
   ],
   "source": [
    "chicago_df"
   ]
  },
  {
   "cell_type": "code",
   "execution_count": null,
   "metadata": {},
   "outputs": [],
   "source": []
  },
  {
   "cell_type": "code",
   "execution_count": 30,
   "metadata": {},
   "outputs": [
    {
     "data": {
      "text/plain": [
       "THEFT                                1245111\n",
       "BATTERY                              1079178\n",
       "CRIMINAL DAMAGE                       702702\n",
       "NARCOTICS                             674831\n",
       "BURGLARY                              369056\n",
       "OTHER OFFENSE                         368169\n",
       "ASSAULT                               360244\n",
       "MOTOR VEHICLE THEFT                   271624\n",
       "ROBBERY                               229467\n",
       "DECEPTIVE PRACTICE                    225180\n",
       "CRIMINAL TRESPASS                     171596\n",
       "PROSTITUTION                           60735\n",
       "WEAPONS VIOLATION                      60335\n",
       "PUBLIC PEACE VIOLATION                 48403\n",
       "OFFENSE INVOLVING CHILDREN             40260\n",
       "CRIM SEXUAL ASSAULT                    22789\n",
       "SEX OFFENSE                            20172\n",
       "GAMBLING                               14755\n",
       "INTERFERENCE WITH PUBLIC OFFICER       14009\n",
       "LIQUOR LAW VIOLATION                   12129\n",
       "ARSON                                   9269\n",
       "HOMICIDE                                5879\n",
       "KIDNAPPING                              4734\n",
       "INTIMIDATION                            3324\n",
       "STALKING                                2866\n",
       "OBSCENITY                                422\n",
       "PUBLIC INDECENCY                         134\n",
       "OTHER NARCOTIC VIOLATION                 122\n",
       "NON-CRIMINAL                              96\n",
       "CONCEALED CARRY LICENSE VIOLATION         90\n",
       "NON - CRIMINAL                            38\n",
       "HUMAN TRAFFICKING                         28\n",
       "RITUALISM                                 16\n",
       "NON-CRIMINAL (SUBJECT SPECIFIED)           4\n",
       "Name: Primary Type, dtype: int64"
      ]
     },
     "execution_count": 30,
     "metadata": {},
     "output_type": "execute_result"
    }
   ],
   "source": [
    "chicago_df['Primary Type'].value_counts()"
   ]
  },
  {
   "cell_type": "code",
   "execution_count": 31,
   "metadata": {},
   "outputs": [
    {
     "data": {
      "text/plain": [
       "THEFT                         1245111\n",
       "BATTERY                       1079178\n",
       "CRIMINAL DAMAGE                702702\n",
       "NARCOTICS                      674831\n",
       "BURGLARY                       369056\n",
       "OTHER OFFENSE                  368169\n",
       "ASSAULT                        360244\n",
       "MOTOR VEHICLE THEFT            271624\n",
       "ROBBERY                        229467\n",
       "DECEPTIVE PRACTICE             225180\n",
       "CRIMINAL TRESPASS              171596\n",
       "PROSTITUTION                    60735\n",
       "WEAPONS VIOLATION               60335\n",
       "PUBLIC PEACE VIOLATION          48403\n",
       "OFFENSE INVOLVING CHILDREN      40260\n",
       "Name: Primary Type, dtype: int64"
      ]
     },
     "execution_count": 31,
     "metadata": {},
     "output_type": "execute_result"
    }
   ],
   "source": [
    "chicago_df['Primary Type'].value_counts().iloc[:15]"
   ]
  },
  {
   "cell_type": "code",
   "execution_count": 33,
   "metadata": {},
   "outputs": [
    {
     "data": {
      "text/plain": [
       "Index(['THEFT', 'BATTERY', 'CRIMINAL DAMAGE', 'NARCOTICS', 'BURGLARY',\n",
       "       'OTHER OFFENSE', 'ASSAULT', 'MOTOR VEHICLE THEFT', 'ROBBERY',\n",
       "       'DECEPTIVE PRACTICE', 'CRIMINAL TRESPASS', 'PROSTITUTION',\n",
       "       'WEAPONS VIOLATION', 'PUBLIC PEACE VIOLATION',\n",
       "       'OFFENSE INVOLVING CHILDREN'],\n",
       "      dtype='object')"
      ]
     },
     "execution_count": 33,
     "metadata": {},
     "output_type": "execute_result"
    }
   ],
   "source": [
    "order_data = chicago_df['Primary Type'].value_counts().iloc[:15].index\n",
    "order_data"
   ]
  },
  {
   "cell_type": "code",
   "execution_count": 34,
   "metadata": {},
   "outputs": [
    {
     "data": {
      "text/plain": [
       "<matplotlib.axes._subplots.AxesSubplot at 0x287826d3730>"
      ]
     },
     "execution_count": 34,
     "metadata": {},
     "output_type": "execute_result"
    },
    {
     "data": {
      "image/png": "[encoded data removed]",
      "text/plain": [
       "<Figure size 1080x720 with 1 Axes>"
      ]
     },
     "metadata": {
      "needs_background": "light"
     },
     "output_type": "display_data"
    }
   ],
   "source": [
    "plt.figure(figsize = (15,10))\n",
    "sns.countplot(y = 'Primary Type', data = chicago_df, order =order_data )"
   ]
  },
  {
   "cell_type": "code",
   "execution_count": 35,
   "metadata": {},
   "outputs": [
    {
     "data": {
      "text/plain": [
       "<matplotlib.axes._subplots.AxesSubplot at 0x28794e52af0>"
      ]
     },
     "execution_count": 35,
     "metadata": {},
     "output_type": "execute_result"
    },
    {
     "data": {
      "image/png": "[encoded data removed]",
      "text/plain": [
       "<Figure size 1080x720 with 1 Axes>"
      ]
     },
     "metadata": {
      "needs_background": "light"
     },
     "output_type": "display_data"
    }
   ],
   "source": [
    "plt.figure(figsize = (15,10))\n",
    "sns.countplot(y = 'Location Description', data = chicago_df, order =chicago_df['Location Description'].value_counts().iloc[:15].index)"
   ]
  },
  {
   "cell_type": "code",
   "execution_count": 36,
   "metadata": {},
   "outputs": [
    {
     "data": {
      "text/plain": [
       "Date\n",
       "2005-12-31    455811\n",
       "2006-12-31    794684\n",
       "2007-12-31    621848\n",
       "2008-12-31    852053\n",
       "2009-12-31    783900\n",
       "2010-12-31    700691\n",
       "2011-12-31    352066\n",
       "2012-12-31    335670\n",
       "2013-12-31    306703\n",
       "2014-12-31    274527\n",
       "2015-12-31    262995\n",
       "2016-12-31    265462\n",
       "2017-12-31     11357\n",
       "Freq: A-DEC, dtype: int64"
      ]
     },
     "execution_count": 36,
     "metadata": {},
     "output_type": "execute_result"
    }
   ],
   "source": [
    "chicago_df.resample('Y').size()"
   ]
  },
  {
   "cell_type": "code",
   "execution_count": null,
   "metadata": {},
   "outputs": [],
   "source": [
    "plt.plot(chicago_df.resample('Y'))"
   ]
  },
  {
   "cell_type": "code",
   "execution_count": 38,
   "metadata": {},
   "outputs": [
    {
     "data": {
      "text/plain": [
       "Text(0, 0.5, 'Number of Crimes')"
      ]
     },
     "execution_count": 38,
     "metadata": {},
     "output_type": "execute_result"
    },
    {
     "data": {
      "image/png": "[encoded data removed]",
      "text/plain": [
       "<Figure size 432x288 with 1 Axes>"
      ]
     },
     "metadata": {
      "needs_background": "light"
     },
     "output_type": "display_data"
    }
   ],
   "source": [
    "# Resample is a Convenience method for frequency conversion and resampling of time series.\n",
    "\n",
    "plt.plot(chicago_df.resample('Y').size())\n",
    "plt.title('Crimes Count Per Year')\n",
    "plt.xlabel('Years')\n",
    "plt.ylabel('Number of Crimes')"
   ]
  },
  {
   "cell_type": "code",
   "execution_count": 39,
   "metadata": {},
   "outputs": [
    {
     "data": {
      "text/plain": [
       "Text(0, 0.5, 'Number of Crimes')"
      ]
     },
     "execution_count": 39,
     "metadata": {},
     "output_type": "execute_result"
    },
    {
     "data": {
      "image/png": "[encoded data removed]",
      "text/plain": [
       "<Figure size 432x288 with 1 Axes>"
      ]
     },
     "metadata": {
      "needs_background": "light"
     },
     "output_type": "display_data"
    }
   ],
   "source": [
    "plt.plot(chicago_df.resample('M').size())\n",
    "plt.title('Crimes Count Per Month')\n",
    "plt.xlabel('Months')\n",
    "plt.ylabel('Number of Crimes')"
   ]
  },
  {
   "cell_type": "code",
   "execution_count": 40,
   "metadata": {},
   "outputs": [
    {
     "data": {
      "text/plain": [
       "Text(0, 0.5, 'Number of Crimes')"
      ]
     },
     "execution_count": 40,
     "metadata": {},
     "output_type": "execute_result"
    },
    {
     "data": {
      "image/png": "[encoded data removed]",
      "text/plain": [
       "<Figure size 432x288 with 1 Axes>"
      ]
     },
     "metadata": {
      "needs_background": "light"
     },
     "output_type": "display_data"
    }
   ],
   "source": [
    "plt.plot(chicago_df.resample('Q').size())\n",
    "plt.title('Crimes Count Per Quarter')\n",
    "plt.xlabel('Quarter')\n",
    "plt.ylabel('Number of Crimes')"
   ]
  },
  {
   "cell_type": "markdown",
   "metadata": {},
   "source": [
    "## PREPARING THE DATA"
   ]
  },
  {
   "cell_type": "code",
   "execution_count": 41,
   "metadata": {},
   "outputs": [],
   "source": [
    "chicago_prophet = chicago_df.resample('M').size().reset_index()"
   ]
  },
  {
   "cell_type": "code",
   "execution_count": 42,
   "metadata": {},
   "outputs": [
    {
     "data": {
      "text/html": [
       "<div>\n",
       "<style scoped>\n",
       "    .dataframe tbody tr th:only-of-type {\n",
       "        vertical-align: middle;\n",
       "    }\n",
       "\n",
       "    .dataframe tbody tr th {\n",
       "        vertical-align: top;\n",
       "    }\n",
       "\n",
       "    .dataframe thead th {\n",
       "        text-align: right;\n",
       "    }\n",
       "</style>\n",
       "<table border=\"1\" class=\"dataframe\">\n",
       "  <thead>\n",
       "    <tr style=\"text-align: right;\">\n",
       "      <th></th>\n",
       "      <th>Date</th>\n",
       "      <th>0</th>\n",
       "    </tr>\n",
       "  </thead>\n",
       "  <tbody>\n",
       "    <tr>\n",
       "      <th>0</th>\n",
       "      <td>2005-01-31</td>\n",
       "      <td>33983</td>\n",
       "    </tr>\n",
       "    <tr>\n",
       "      <th>1</th>\n",
       "      <td>2005-02-28</td>\n",
       "      <td>32042</td>\n",
       "    </tr>\n",
       "    <tr>\n",
       "      <th>2</th>\n",
       "      <td>2005-03-31</td>\n",
       "      <td>36970</td>\n",
       "    </tr>\n",
       "    <tr>\n",
       "      <th>3</th>\n",
       "      <td>2005-04-30</td>\n",
       "      <td>38963</td>\n",
       "    </tr>\n",
       "    <tr>\n",
       "      <th>4</th>\n",
       "      <td>2005-05-31</td>\n",
       "      <td>40572</td>\n",
       "    </tr>\n",
       "    <tr>\n",
       "      <th>...</th>\n",
       "      <td>...</td>\n",
       "      <td>...</td>\n",
       "    </tr>\n",
       "    <tr>\n",
       "      <th>140</th>\n",
       "      <td>2016-09-30</td>\n",
       "      <td>23235</td>\n",
       "    </tr>\n",
       "    <tr>\n",
       "      <th>141</th>\n",
       "      <td>2016-10-31</td>\n",
       "      <td>23314</td>\n",
       "    </tr>\n",
       "    <tr>\n",
       "      <th>142</th>\n",
       "      <td>2016-11-30</td>\n",
       "      <td>21140</td>\n",
       "    </tr>\n",
       "    <tr>\n",
       "      <th>143</th>\n",
       "      <td>2016-12-31</td>\n",
       "      <td>19580</td>\n",
       "    </tr>\n",
       "    <tr>\n",
       "      <th>144</th>\n",
       "      <td>2017-01-31</td>\n",
       "      <td>11357</td>\n",
       "    </tr>\n",
       "  </tbody>\n",
       "</table>\n",
       "<p>145 rows × 2 columns</p>\n",
       "</div>"
      ],
      "text/plain": [
       "          Date      0\n",
       "0   2005-01-31  33983\n",
       "1   2005-02-28  32042\n",
       "2   2005-03-31  36970\n",
       "3   2005-04-30  38963\n",
       "4   2005-05-31  40572\n",
       "..         ...    ...\n",
       "140 2016-09-30  23235\n",
       "141 2016-10-31  23314\n",
       "142 2016-11-30  21140\n",
       "143 2016-12-31  19580\n",
       "144 2017-01-31  11357\n",
       "\n",
       "[145 rows x 2 columns]"
      ]
     },
     "execution_count": 42,
     "metadata": {},
     "output_type": "execute_result"
    }
   ],
   "source": [
    "chicago_prophet"
   ]
  },
  {
   "cell_type": "code",
   "execution_count": 43,
   "metadata": {},
   "outputs": [],
   "source": [
    "chicago_prophet.columns = ['Date', 'Crime_counts']"
   ]
  },
  {
   "cell_type": "code",
   "execution_count": 44,
   "metadata": {},
   "outputs": [
    {
     "data": {
      "text/html": [
       "<div>\n",
       "<style scoped>\n",
       "    .dataframe tbody tr th:only-of-type {\n",
       "        vertical-align: middle;\n",
       "    }\n",
       "\n",
       "    .dataframe tbody tr th {\n",
       "        vertical-align: top;\n",
       "    }\n",
       "\n",
       "    .dataframe thead th {\n",
       "        text-align: right;\n",
       "    }\n",
       "</style>\n",
       "<table border=\"1\" class=\"dataframe\">\n",
       "  <thead>\n",
       "    <tr style=\"text-align: right;\">\n",
       "      <th></th>\n",
       "      <th>Date</th>\n",
       "      <th>Crime_counts</th>\n",
       "    </tr>\n",
       "  </thead>\n",
       "  <tbody>\n",
       "    <tr>\n",
       "      <th>0</th>\n",
       "      <td>2005-01-31</td>\n",
       "      <td>33983</td>\n",
       "    </tr>\n",
       "    <tr>\n",
       "      <th>1</th>\n",
       "      <td>2005-02-28</td>\n",
       "      <td>32042</td>\n",
       "    </tr>\n",
       "    <tr>\n",
       "      <th>2</th>\n",
       "      <td>2005-03-31</td>\n",
       "      <td>36970</td>\n",
       "    </tr>\n",
       "    <tr>\n",
       "      <th>3</th>\n",
       "      <td>2005-04-30</td>\n",
       "      <td>38963</td>\n",
       "    </tr>\n",
       "    <tr>\n",
       "      <th>4</th>\n",
       "      <td>2005-05-31</td>\n",
       "      <td>40572</td>\n",
       "    </tr>\n",
       "    <tr>\n",
       "      <th>...</th>\n",
       "      <td>...</td>\n",
       "      <td>...</td>\n",
       "    </tr>\n",
       "    <tr>\n",
       "      <th>140</th>\n",
       "      <td>2016-09-30</td>\n",
       "      <td>23235</td>\n",
       "    </tr>\n",
       "    <tr>\n",
       "      <th>141</th>\n",
       "      <td>2016-10-31</td>\n",
       "      <td>23314</td>\n",
       "    </tr>\n",
       "    <tr>\n",
       "      <th>142</th>\n",
       "      <td>2016-11-30</td>\n",
       "      <td>21140</td>\n",
       "    </tr>\n",
       "    <tr>\n",
       "      <th>143</th>\n",
       "      <td>2016-12-31</td>\n",
       "      <td>19580</td>\n",
       "    </tr>\n",
       "    <tr>\n",
       "      <th>144</th>\n",
       "      <td>2017-01-31</td>\n",
       "      <td>11357</td>\n",
       "    </tr>\n",
       "  </tbody>\n",
       "</table>\n",
       "<p>145 rows × 2 columns</p>\n",
       "</div>"
      ],
      "text/plain": [
       "          Date  Crime_counts\n",
       "0   2005-01-31         33983\n",
       "1   2005-02-28         32042\n",
       "2   2005-03-31         36970\n",
       "3   2005-04-30         38963\n",
       "4   2005-05-31         40572\n",
       "..         ...           ...\n",
       "140 2016-09-30         23235\n",
       "141 2016-10-31         23314\n",
       "142 2016-11-30         21140\n",
       "143 2016-12-31         19580\n",
       "144 2017-01-31         11357\n",
       "\n",
       "[145 rows x 2 columns]"
      ]
     },
     "execution_count": 44,
     "metadata": {},
     "output_type": "execute_result"
    }
   ],
   "source": [
    "chicago_prophet"
   ]
  },
  {
   "cell_type": "code",
   "execution_count": 45,
   "metadata": {},
   "outputs": [],
   "source": [
    "chicago_prophet_df_final = chicago_prophet.rename(columns = {'Date': 'ds', 'Crime_counts': 'y'})"
   ]
  },
  {
   "cell_type": "code",
   "execution_count": 46,
   "metadata": {},
   "outputs": [
    {
     "data": {
      "text/html": [
       "<div>\n",
       "<style scoped>\n",
       "    .dataframe tbody tr th:only-of-type {\n",
       "        vertical-align: middle;\n",
       "    }\n",
       "\n",
       "    .dataframe tbody tr th {\n",
       "        vertical-align: top;\n",
       "    }\n",
       "\n",
       "    .dataframe thead th {\n",
       "        text-align: right;\n",
       "    }\n",
       "</style>\n",
       "<table border=\"1\" class=\"dataframe\">\n",
       "  <thead>\n",
       "    <tr style=\"text-align: right;\">\n",
       "      <th></th>\n",
       "      <th>ds</th>\n",
       "      <th>y</th>\n",
       "    </tr>\n",
       "  </thead>\n",
       "  <tbody>\n",
       "    <tr>\n",
       "      <th>0</th>\n",
       "      <td>2005-01-31</td>\n",
       "      <td>33983</td>\n",
       "    </tr>\n",
       "    <tr>\n",
       "      <th>1</th>\n",
       "      <td>2005-02-28</td>\n",
       "      <td>32042</td>\n",
       "    </tr>\n",
       "    <tr>\n",
       "      <th>2</th>\n",
       "      <td>2005-03-31</td>\n",
       "      <td>36970</td>\n",
       "    </tr>\n",
       "    <tr>\n",
       "      <th>3</th>\n",
       "      <td>2005-04-30</td>\n",
       "      <td>38963</td>\n",
       "    </tr>\n",
       "    <tr>\n",
       "      <th>4</th>\n",
       "      <td>2005-05-31</td>\n",
       "      <td>40572</td>\n",
       "    </tr>\n",
       "    <tr>\n",
       "      <th>...</th>\n",
       "      <td>...</td>\n",
       "      <td>...</td>\n",
       "    </tr>\n",
       "    <tr>\n",
       "      <th>140</th>\n",
       "      <td>2016-09-30</td>\n",
       "      <td>23235</td>\n",
       "    </tr>\n",
       "    <tr>\n",
       "      <th>141</th>\n",
       "      <td>2016-10-31</td>\n",
       "      <td>23314</td>\n",
       "    </tr>\n",
       "    <tr>\n",
       "      <th>142</th>\n",
       "      <td>2016-11-30</td>\n",
       "      <td>21140</td>\n",
       "    </tr>\n",
       "    <tr>\n",
       "      <th>143</th>\n",
       "      <td>2016-12-31</td>\n",
       "      <td>19580</td>\n",
       "    </tr>\n",
       "    <tr>\n",
       "      <th>144</th>\n",
       "      <td>2017-01-31</td>\n",
       "      <td>11357</td>\n",
       "    </tr>\n",
       "  </tbody>\n",
       "</table>\n",
       "<p>145 rows × 2 columns</p>\n",
       "</div>"
      ],
      "text/plain": [
       "            ds      y\n",
       "0   2005-01-31  33983\n",
       "1   2005-02-28  32042\n",
       "2   2005-03-31  36970\n",
       "3   2005-04-30  38963\n",
       "4   2005-05-31  40572\n",
       "..         ...    ...\n",
       "140 2016-09-30  23235\n",
       "141 2016-10-31  23314\n",
       "142 2016-11-30  21140\n",
       "143 2016-12-31  19580\n",
       "144 2017-01-31  11357\n",
       "\n",
       "[145 rows x 2 columns]"
      ]
     },
     "execution_count": 46,
     "metadata": {},
     "output_type": "execute_result"
    }
   ],
   "source": [
    "chicago_prophet_df_final"
   ]
  },
  {
   "cell_type": "markdown",
   "metadata": {},
   "source": [
    "## MAKE PREDICTIONS"
   ]
  },
  {
   "cell_type": "code",
   "execution_count": 47,
   "metadata": {},
   "outputs": [
    {
     "name": "stderr",
     "output_type": "stream",
     "text": [
      "INFO:fbprophet:Disabling weekly seasonality. Run prophet with weekly_seasonality=True to override this.\n",
      "INFO:fbprophet:Disabling daily seasonality. Run prophet with daily_seasonality=True to override this.\n"
     ]
    },
    {
     "data": {
      "text/plain": [
       "<fbprophet.forecaster.Prophet at 0x287824acc40>"
      ]
     },
     "execution_count": 47,
     "metadata": {},
     "output_type": "execute_result"
    }
   ],
   "source": [
    "m  = Prophet()\n",
    "m.fit(chicago_prophet_df_final)"
   ]
  },
  {
   "cell_type": "code",
   "execution_count": 54,
   "metadata": {},
   "outputs": [],
   "source": [
    "# Forcasting into the future\n",
    "future = m.make_future_dataframe(periods=1000)\n",
    "forecast = m.predict(future)"
   ]
  },
  {
   "cell_type": "code",
   "execution_count": 55,
   "metadata": {},
   "outputs": [
    {
     "data": {
      "text/html": [
       "<div>\n",
       "<style scoped>\n",
       "    .dataframe tbody tr th:only-of-type {\n",
       "        vertical-align: middle;\n",
       "    }\n",
       "\n",
       "    .dataframe tbody tr th {\n",
       "        vertical-align: top;\n",
       "    }\n",
       "\n",
       "    .dataframe thead th {\n",
       "        text-align: right;\n",
       "    }\n",
       "</style>\n",
       "<table border=\"1\" class=\"dataframe\">\n",
       "  <thead>\n",
       "    <tr style=\"text-align: right;\">\n",
       "      <th></th>\n",
       "      <th>ds</th>\n",
       "      <th>trend</th>\n",
       "      <th>yhat_lower</th>\n",
       "      <th>yhat_upper</th>\n",
       "      <th>trend_lower</th>\n",
       "      <th>trend_upper</th>\n",
       "      <th>additive_terms</th>\n",
       "      <th>additive_terms_lower</th>\n",
       "      <th>additive_terms_upper</th>\n",
       "      <th>yearly</th>\n",
       "      <th>yearly_lower</th>\n",
       "      <th>yearly_upper</th>\n",
       "      <th>multiplicative_terms</th>\n",
       "      <th>multiplicative_terms_lower</th>\n",
       "      <th>multiplicative_terms_upper</th>\n",
       "      <th>yhat</th>\n",
       "    </tr>\n",
       "  </thead>\n",
       "  <tbody>\n",
       "    <tr>\n",
       "      <th>0</th>\n",
       "      <td>2005-01-31</td>\n",
       "      <td>60379.720403</td>\n",
       "      <td>38941.159281</td>\n",
       "      <td>71982.422114</td>\n",
       "      <td>60379.720403</td>\n",
       "      <td>60379.720403</td>\n",
       "      <td>-4888.559945</td>\n",
       "      <td>-4888.559945</td>\n",
       "      <td>-4888.559945</td>\n",
       "      <td>-4888.559945</td>\n",
       "      <td>-4888.559945</td>\n",
       "      <td>-4888.559945</td>\n",
       "      <td>0.0</td>\n",
       "      <td>0.0</td>\n",
       "      <td>0.0</td>\n",
       "      <td>55491.160458</td>\n",
       "    </tr>\n",
       "    <tr>\n",
       "      <th>1</th>\n",
       "      <td>2005-02-28</td>\n",
       "      <td>60249.704311</td>\n",
       "      <td>34165.573635</td>\n",
       "      <td>68462.552422</td>\n",
       "      <td>60249.704311</td>\n",
       "      <td>60249.704311</td>\n",
       "      <td>-9556.480896</td>\n",
       "      <td>-9556.480896</td>\n",
       "      <td>-9556.480896</td>\n",
       "      <td>-9556.480896</td>\n",
       "      <td>-9556.480896</td>\n",
       "      <td>-9556.480896</td>\n",
       "      <td>0.0</td>\n",
       "      <td>0.0</td>\n",
       "      <td>0.0</td>\n",
       "      <td>50693.223415</td>\n",
       "    </tr>\n",
       "    <tr>\n",
       "      <th>2</th>\n",
       "      <td>2005-03-31</td>\n",
       "      <td>60105.757924</td>\n",
       "      <td>42655.432616</td>\n",
       "      <td>74030.080695</td>\n",
       "      <td>60105.757924</td>\n",
       "      <td>60105.757924</td>\n",
       "      <td>-1267.695327</td>\n",
       "      <td>-1267.695327</td>\n",
       "      <td>-1267.695327</td>\n",
       "      <td>-1267.695327</td>\n",
       "      <td>-1267.695327</td>\n",
       "      <td>-1267.695327</td>\n",
       "      <td>0.0</td>\n",
       "      <td>0.0</td>\n",
       "      <td>0.0</td>\n",
       "      <td>58838.062597</td>\n",
       "    </tr>\n",
       "    <tr>\n",
       "      <th>3</th>\n",
       "      <td>2005-04-30</td>\n",
       "      <td>59966.454969</td>\n",
       "      <td>44973.102872</td>\n",
       "      <td>78769.127031</td>\n",
       "      <td>59966.454969</td>\n",
       "      <td>59966.454969</td>\n",
       "      <td>1143.949615</td>\n",
       "      <td>1143.949615</td>\n",
       "      <td>1143.949615</td>\n",
       "      <td>1143.949615</td>\n",
       "      <td>1143.949615</td>\n",
       "      <td>1143.949615</td>\n",
       "      <td>0.0</td>\n",
       "      <td>0.0</td>\n",
       "      <td>0.0</td>\n",
       "      <td>61110.404583</td>\n",
       "    </tr>\n",
       "    <tr>\n",
       "      <th>4</th>\n",
       "      <td>2005-05-31</td>\n",
       "      <td>59822.508582</td>\n",
       "      <td>47334.657440</td>\n",
       "      <td>81416.439739</td>\n",
       "      <td>59822.508582</td>\n",
       "      <td>59822.508582</td>\n",
       "      <td>5464.443944</td>\n",
       "      <td>5464.443944</td>\n",
       "      <td>5464.443944</td>\n",
       "      <td>5464.443944</td>\n",
       "      <td>5464.443944</td>\n",
       "      <td>5464.443944</td>\n",
       "      <td>0.0</td>\n",
       "      <td>0.0</td>\n",
       "      <td>0.0</td>\n",
       "      <td>65286.952525</td>\n",
       "    </tr>\n",
       "    <tr>\n",
       "      <th>...</th>\n",
       "      <td>...</td>\n",
       "      <td>...</td>\n",
       "      <td>...</td>\n",
       "      <td>...</td>\n",
       "      <td>...</td>\n",
       "      <td>...</td>\n",
       "      <td>...</td>\n",
       "      <td>...</td>\n",
       "      <td>...</td>\n",
       "      <td>...</td>\n",
       "      <td>...</td>\n",
       "      <td>...</td>\n",
       "      <td>...</td>\n",
       "      <td>...</td>\n",
       "      <td>...</td>\n",
       "      <td>...</td>\n",
       "    </tr>\n",
       "    <tr>\n",
       "      <th>1140</th>\n",
       "      <td>2019-10-24</td>\n",
       "      <td>1645.467200</td>\n",
       "      <td>-12607.346885</td>\n",
       "      <td>22145.681729</td>\n",
       "      <td>917.518239</td>\n",
       "      <td>2439.652311</td>\n",
       "      <td>2693.371392</td>\n",
       "      <td>2693.371392</td>\n",
       "      <td>2693.371392</td>\n",
       "      <td>2693.371392</td>\n",
       "      <td>2693.371392</td>\n",
       "      <td>2693.371392</td>\n",
       "      <td>0.0</td>\n",
       "      <td>0.0</td>\n",
       "      <td>0.0</td>\n",
       "      <td>4338.838593</td>\n",
       "    </tr>\n",
       "    <tr>\n",
       "      <th>1141</th>\n",
       "      <td>2019-10-25</td>\n",
       "      <td>1632.246809</td>\n",
       "      <td>-13499.713030</td>\n",
       "      <td>21345.965855</td>\n",
       "      <td>901.834742</td>\n",
       "      <td>2428.827282</td>\n",
       "      <td>2782.011034</td>\n",
       "      <td>2782.011034</td>\n",
       "      <td>2782.011034</td>\n",
       "      <td>2782.011034</td>\n",
       "      <td>2782.011034</td>\n",
       "      <td>2782.011034</td>\n",
       "      <td>0.0</td>\n",
       "      <td>0.0</td>\n",
       "      <td>0.0</td>\n",
       "      <td>4414.257844</td>\n",
       "    </tr>\n",
       "    <tr>\n",
       "      <th>1142</th>\n",
       "      <td>2019-10-26</td>\n",
       "      <td>1619.026419</td>\n",
       "      <td>-11907.586826</td>\n",
       "      <td>22232.520866</td>\n",
       "      <td>887.457189</td>\n",
       "      <td>2416.571843</td>\n",
       "      <td>2831.398202</td>\n",
       "      <td>2831.398202</td>\n",
       "      <td>2831.398202</td>\n",
       "      <td>2831.398202</td>\n",
       "      <td>2831.398202</td>\n",
       "      <td>2831.398202</td>\n",
       "      <td>0.0</td>\n",
       "      <td>0.0</td>\n",
       "      <td>0.0</td>\n",
       "      <td>4450.424620</td>\n",
       "    </tr>\n",
       "    <tr>\n",
       "      <th>1143</th>\n",
       "      <td>2019-10-27</td>\n",
       "      <td>1605.806028</td>\n",
       "      <td>-13009.673234</td>\n",
       "      <td>20657.235898</td>\n",
       "      <td>873.298780</td>\n",
       "      <td>2404.306421</td>\n",
       "      <td>2839.437402</td>\n",
       "      <td>2839.437402</td>\n",
       "      <td>2839.437402</td>\n",
       "      <td>2839.437402</td>\n",
       "      <td>2839.437402</td>\n",
       "      <td>2839.437402</td>\n",
       "      <td>0.0</td>\n",
       "      <td>0.0</td>\n",
       "      <td>0.0</td>\n",
       "      <td>4445.243430</td>\n",
       "    </tr>\n",
       "    <tr>\n",
       "      <th>1144</th>\n",
       "      <td>2019-10-28</td>\n",
       "      <td>1592.585637</td>\n",
       "      <td>-11691.571269</td>\n",
       "      <td>20229.780677</td>\n",
       "      <td>859.227398</td>\n",
       "      <td>2392.040999</td>\n",
       "      <td>2805.048280</td>\n",
       "      <td>2805.048280</td>\n",
       "      <td>2805.048280</td>\n",
       "      <td>2805.048280</td>\n",
       "      <td>2805.048280</td>\n",
       "      <td>2805.048280</td>\n",
       "      <td>0.0</td>\n",
       "      <td>0.0</td>\n",
       "      <td>0.0</td>\n",
       "      <td>4397.633917</td>\n",
       "    </tr>\n",
       "  </tbody>\n",
       "</table>\n",
       "<p>1145 rows × 16 columns</p>\n",
       "</div>"
      ],
      "text/plain": [
       "             ds         trend    yhat_lower    yhat_upper   trend_lower  \\\n",
       "0    2005-01-31  60379.720403  38941.159281  71982.422114  60379.720403   \n",
       "1    2005-02-28  60249.704311  34165.573635  68462.552422  60249.704311   \n",
       "2    2005-03-31  60105.757924  42655.432616  74030.080695  60105.757924   \n",
       "3    2005-04-30  59966.454969  44973.102872  78769.127031  59966.454969   \n",
       "4    2005-05-31  59822.508582  47334.657440  81416.439739  59822.508582   \n",
       "...         ...           ...           ...           ...           ...   \n",
       "1140 2019-10-24   1645.467200 -12607.346885  22145.681729    917.518239   \n",
       "1141 2019-10-25   1632.246809 -13499.713030  21345.965855    901.834742   \n",
       "1142 2019-10-26   1619.026419 -11907.586826  22232.520866    887.457189   \n",
       "1143 2019-10-27   1605.806028 -13009.673234  20657.235898    873.298780   \n",
       "1144 2019-10-28   1592.585637 -11691.571269  20229.780677    859.227398   \n",
       "\n",
       "       trend_upper  additive_terms  additive_terms_lower  \\\n",
       "0     60379.720403    -4888.559945          -4888.559945   \n",
       "1     60249.704311    -9556.480896          -9556.480896   \n",
       "2     60105.757924    -1267.695327          -1267.695327   \n",
       "3     59966.454969     1143.949615           1143.949615   \n",
       "4     59822.508582     5464.443944           5464.443944   \n",
       "...            ...             ...                   ...   \n",
       "1140   2439.652311     2693.371392           2693.371392   \n",
       "1141   2428.827282     2782.011034           2782.011034   \n",
       "1142   2416.571843     2831.398202           2831.398202   \n",
       "1143   2404.306421     2839.437402           2839.437402   \n",
       "1144   2392.040999     2805.048280           2805.048280   \n",
       "\n",
       "      additive_terms_upper       yearly  yearly_lower  yearly_upper  \\\n",
       "0             -4888.559945 -4888.559945  -4888.559945  -4888.559945   \n",
       "1             -9556.480896 -9556.480896  -9556.480896  -9556.480896   \n",
       "2             -1267.695327 -1267.695327  -1267.695327  -1267.695327   \n",
       "3              1143.949615  1143.949615   1143.949615   1143.949615   \n",
       "4              5464.443944  5464.443944   5464.443944   5464.443944   \n",
       "...                    ...          ...           ...           ...   \n",
       "1140           2693.371392  2693.371392   2693.371392   2693.371392   \n",
       "1141           2782.011034  2782.011034   2782.011034   2782.011034   \n",
       "1142           2831.398202  2831.398202   2831.398202   2831.398202   \n",
       "1143           2839.437402  2839.437402   2839.437402   2839.437402   \n",
       "1144           2805.048280  2805.048280   2805.048280   2805.048280   \n",
       "\n",
       "      multiplicative_terms  multiplicative_terms_lower  \\\n",
       "0                      0.0                         0.0   \n",
       "1                      0.0                         0.0   \n",
       "2                      0.0                         0.0   \n",
       "3                      0.0                         0.0   \n",
       "4                      0.0                         0.0   \n",
       "...                    ...                         ...   \n",
       "1140                   0.0                         0.0   \n",
       "1141                   0.0                         0.0   \n",
       "1142                   0.0                         0.0   \n",
       "1143                   0.0                         0.0   \n",
       "1144                   0.0                         0.0   \n",
       "\n",
       "      multiplicative_terms_upper          yhat  \n",
       "0                            0.0  55491.160458  \n",
       "1                            0.0  50693.223415  \n",
       "2                            0.0  58838.062597  \n",
       "3                            0.0  61110.404583  \n",
       "4                            0.0  65286.952525  \n",
       "...                          ...           ...  \n",
       "1140                         0.0   4338.838593  \n",
       "1141                         0.0   4414.257844  \n",
       "1142                         0.0   4450.424620  \n",
       "1143                         0.0   4445.243430  \n",
       "1144                         0.0   4397.633917  \n",
       "\n",
       "[1145 rows x 16 columns]"
      ]
     },
     "execution_count": 55,
     "metadata": {},
     "output_type": "execute_result"
    }
   ],
   "source": [
    "forecast"
   ]
  },
  {
   "cell_type": "code",
   "execution_count": 56,
   "metadata": {},
   "outputs": [
    {
     "data": {
      "image/png": "[encoded data removed]",
      "text/plain": [
       "<Figure size 720x432 with 1 Axes>"
      ]
     },
     "metadata": {},
     "output_type": "display_data"
    }
   ],
   "source": [
    "figure = m.plot(forecast,xlabel= 'Date',ylabel= 'Crime Rate')"
   ]
  },
  {
   "cell_type": "code",
   "execution_count": 57,
   "metadata": {},
   "outputs": [
    {
     "data": {
      "image/png": "[encoded data removed]",
      "text/plain": [
       "<Figure size 648x432 with 2 Axes>"
      ]
     },
     "metadata": {},
     "output_type": "display_data"
    }
   ],
   "source": [
    "figure3 = m.plot_components(forecast)"
   ]
  },
  {
   "cell_type": "code",
   "execution_count": null,
   "metadata": {},
   "outputs": [],
   "source": []
  }
 ],
 "metadata": {
  "kernelspec": {
   "display_name": "Python 3",
   "language": "python",
   "name": "python3"
  },
  "language_info": {
   "codemirror_mode": {
    "name": "ipython",
    "version": 3
   },
   "file_extension": ".py",
   "mimetype": "text/x-python",
   "name": "python",
   "nbconvert_exporter": "python",
   "pygments_lexer": "ipython3",
   "version": "3.8.3"
  }
 },
 "nbformat": 4,
 "nbformat_minor": 4
}
